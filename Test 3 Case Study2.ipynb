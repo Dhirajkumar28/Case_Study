{
 "cells": [
  {
   "cell_type": "raw",
   "id": "507eb5b0",
   "metadata": {},
   "source": [
    "Case Study 1: Sales Analysis\n",
    "Problem Statement:\n",
    "You have a dataset containing sales data with information like product ID, sales quantity, and revenue. Perform the following tasks:\n",
    "\n",
    "Load the dataset and inspect its structure.\n",
    "Clean the data (handle missing values, duplicates, etc.).\n",
    "Calculate total revenue and quantity sold for each product.\n",
    "Find the top-selling products.\n",
    "Analyze monthly sales trends.\n"
   ]
  },
  {
   "cell_type": "code",
   "execution_count": 2,
   "id": "e4ed6f73",
   "metadata": {},
   "outputs": [],
   "source": [
    "import numpy as np\n",
    "import pandas as pd"
   ]
  },
  {
   "cell_type": "code",
   "execution_count": 3,
   "id": "cc6e3907",
   "metadata": {},
   "outputs": [
    {
     "data": {
      "text/html": [
       "<div>\n",
       "<style scoped>\n",
       "    .dataframe tbody tr th:only-of-type {\n",
       "        vertical-align: middle;\n",
       "    }\n",
       "\n",
       "    .dataframe tbody tr th {\n",
       "        vertical-align: top;\n",
       "    }\n",
       "\n",
       "    .dataframe thead th {\n",
       "        text-align: right;\n",
       "    }\n",
       "</style>\n",
       "<table border=\"1\" class=\"dataframe\">\n",
       "  <thead>\n",
       "    <tr style=\"text-align: right;\">\n",
       "      <th></th>\n",
       "      <th>Month</th>\n",
       "      <th>Product ID</th>\n",
       "      <th>Product_Name</th>\n",
       "      <th>Quantity_Sold</th>\n",
       "      <th>Total_Revenue</th>\n",
       "    </tr>\n",
       "  </thead>\n",
       "  <tbody>\n",
       "    <tr>\n",
       "      <th>0</th>\n",
       "      <td>Jan</td>\n",
       "      <td>1001</td>\n",
       "      <td>Iphone15</td>\n",
       "      <td>5</td>\n",
       "      <td>500000</td>\n",
       "    </tr>\n",
       "    <tr>\n",
       "      <th>1</th>\n",
       "      <td>Feb</td>\n",
       "      <td>1002</td>\n",
       "      <td>Iphone13</td>\n",
       "      <td>2</td>\n",
       "      <td>120000</td>\n",
       "    </tr>\n",
       "    <tr>\n",
       "      <th>2</th>\n",
       "      <td>March</td>\n",
       "      <td>1003</td>\n",
       "      <td>Iphone15</td>\n",
       "      <td>3</td>\n",
       "      <td>450000</td>\n",
       "    </tr>\n",
       "    <tr>\n",
       "      <th>3</th>\n",
       "      <td>April</td>\n",
       "      <td>1004</td>\n",
       "      <td>Iphone14</td>\n",
       "      <td>5</td>\n",
       "      <td>350000</td>\n",
       "    </tr>\n",
       "    <tr>\n",
       "      <th>4</th>\n",
       "      <td>May</td>\n",
       "      <td>1005</td>\n",
       "      <td>Iphone15</td>\n",
       "      <td>6</td>\n",
       "      <td>900000</td>\n",
       "    </tr>\n",
       "    <tr>\n",
       "      <th>5</th>\n",
       "      <td>June</td>\n",
       "      <td>1006</td>\n",
       "      <td>Iphone14Plus</td>\n",
       "      <td>2</td>\n",
       "      <td>160000</td>\n",
       "    </tr>\n",
       "    <tr>\n",
       "      <th>6</th>\n",
       "      <td>July</td>\n",
       "      <td>1007</td>\n",
       "      <td>Iphone13Pro</td>\n",
       "      <td>3</td>\n",
       "      <td>210000</td>\n",
       "    </tr>\n",
       "    <tr>\n",
       "      <th>7</th>\n",
       "      <td>Aug</td>\n",
       "      <td>1008</td>\n",
       "      <td>Iphone15</td>\n",
       "      <td>4</td>\n",
       "      <td>400000</td>\n",
       "    </tr>\n",
       "    <tr>\n",
       "      <th>8</th>\n",
       "      <td>Sept</td>\n",
       "      <td>1009</td>\n",
       "      <td>Iphone15Plus</td>\n",
       "      <td>2</td>\n",
       "      <td>200000</td>\n",
       "    </tr>\n",
       "    <tr>\n",
       "      <th>9</th>\n",
       "      <td>Oct</td>\n",
       "      <td>1010</td>\n",
       "      <td>Iphone14</td>\n",
       "      <td>1</td>\n",
       "      <td>70000</td>\n",
       "    </tr>\n",
       "    <tr>\n",
       "      <th>10</th>\n",
       "      <td>Nov</td>\n",
       "      <td>1011</td>\n",
       "      <td>Iphone14ProMax</td>\n",
       "      <td>3</td>\n",
       "      <td>360000</td>\n",
       "    </tr>\n",
       "    <tr>\n",
       "      <th>11</th>\n",
       "      <td>Dec</td>\n",
       "      <td>1012</td>\n",
       "      <td>Iphone15</td>\n",
       "      <td>4</td>\n",
       "      <td>400000</td>\n",
       "    </tr>\n",
       "  </tbody>\n",
       "</table>\n",
       "</div>"
      ],
      "text/plain": [
       "    Month Product ID    Product_Name  Quantity_Sold  Total_Revenue\n",
       "0     Jan       1001        Iphone15              5         500000\n",
       "1     Feb       1002        Iphone13              2         120000\n",
       "2   March       1003        Iphone15              3         450000\n",
       "3   April       1004        Iphone14              5         350000\n",
       "4     May       1005        Iphone15              6         900000\n",
       "5    June       1006    Iphone14Plus              2         160000\n",
       "6    July       1007     Iphone13Pro              3         210000\n",
       "7     Aug       1008        Iphone15              4         400000\n",
       "8    Sept       1009    Iphone15Plus              2         200000\n",
       "9     Oct       1010        Iphone14              1          70000\n",
       "10    Nov       1011  Iphone14ProMax              3         360000\n",
       "11    Dec       1012        Iphone15              4         400000"
      ]
     },
     "execution_count": 3,
     "metadata": {},
     "output_type": "execute_result"
    }
   ],
   "source": [
    "# Create Data Frame from Dataset  which is on a sales of mobile phone in Different Month and other information like \n",
    "# Product_ID,Product Name , Quantity Sold , Total revenue Generated\n",
    "sales_data ={\n",
    "    'Month':['Jan', 'Feb' , 'March' , 'April' , 'May' , 'June' , 'July' , 'Aug' , 'Sept' , 'Oct','Nov','Dec'],\n",
    "    'Product ID':['1001' , '1002', '1003','1004','1005','1006','1007','1008','1009','1010','1011','1012'],\n",
    "    'Product_Name':['Iphone15','Iphone13','Iphone15','Iphone14','Iphone15','Iphone14Plus','Iphone13Pro',\n",
    "                    'Iphone15','Iphone15Plus','Iphone14','Iphone14ProMax','Iphone15'],\n",
    "    'Quantity_Sold': [5 , 2 , 3 , 5 , 6 , 2 , 3 , 4 , 2 , 1 , 3 , 4],\n",
    "    'Total_Revenue': [500000,120000,450000,350000,900000,160000,210000,400000,200000,70000,360000,400000]\n",
    "}\n",
    "df = pd.DataFrame(sales_data)\n",
    "df\n"
   ]
  },
  {
   "cell_type": "code",
   "execution_count": 5,
   "id": "d7d49162",
   "metadata": {},
   "outputs": [
    {
     "data": {
      "text/plain": [
       "(12, 5)"
      ]
     },
     "execution_count": 5,
     "metadata": {},
     "output_type": "execute_result"
    }
   ],
   "source": [
    "df.shape"
   ]
  },
  {
   "cell_type": "code",
   "execution_count": 6,
   "id": "96cd6cd1",
   "metadata": {},
   "outputs": [
    {
     "data": {
      "text/plain": [
       "Index(['Month', 'Product ID', 'Product_Name', 'Quantity_Sold',\n",
       "       'Total_Revenue'],\n",
       "      dtype='object')"
      ]
     },
     "execution_count": 6,
     "metadata": {},
     "output_type": "execute_result"
    }
   ],
   "source": [
    "df.columns"
   ]
  },
  {
   "cell_type": "code",
   "execution_count": 50,
   "id": "3eb86498",
   "metadata": {},
   "outputs": [
    {
     "data": {
      "text/plain": [
       "Month            0\n",
       "Product ID       0\n",
       "Product_Name     0\n",
       "Quantity_Sold    0\n",
       "Total_Revenue    0\n",
       "dtype: int64"
      ]
     },
     "execution_count": 50,
     "metadata": {},
     "output_type": "execute_result"
    }
   ],
   "source": [
    "# Find out any missing Value\n",
    "df.isnull().sum()"
   ]
  },
  {
   "cell_type": "code",
   "execution_count": 8,
   "id": "957501ea",
   "metadata": {},
   "outputs": [
    {
     "name": "stdout",
     "output_type": "stream",
     "text": [
      "Total Quantity Sold is--> 40\n",
      "Total Revenue is Rs. 4120000\n"
     ]
    }
   ],
   "source": [
    "# Calculate total revenue and\n",
    "quantitysold = df[\"Quantity_Sold\"].sum()     #When our data is in array\n",
    "print(\"Total Quantity Sold is-->\",quantitysold)\n",
    "\n",
    "totalrevenue=df['Total_Revenue'].sum()\n",
    "print(\"Total Revenue is Rs.\",totalrevenue)\n"
   ]
  },
  {
   "cell_type": "code",
   "execution_count": 35,
   "id": "f73c7f68",
   "metadata": {},
   "outputs": [
    {
     "data": {
      "text/html": [
       "<div>\n",
       "<style scoped>\n",
       "    .dataframe tbody tr th:only-of-type {\n",
       "        vertical-align: middle;\n",
       "    }\n",
       "\n",
       "    .dataframe tbody tr th {\n",
       "        vertical-align: top;\n",
       "    }\n",
       "\n",
       "    .dataframe thead th {\n",
       "        text-align: right;\n",
       "    }\n",
       "</style>\n",
       "<table border=\"1\" class=\"dataframe\">\n",
       "  <thead>\n",
       "    <tr style=\"text-align: right;\">\n",
       "      <th></th>\n",
       "      <th>Product_Name</th>\n",
       "      <th>Quantity_Sold</th>\n",
       "    </tr>\n",
       "  </thead>\n",
       "  <tbody>\n",
       "    <tr>\n",
       "      <th>0</th>\n",
       "      <td>Iphone13</td>\n",
       "      <td>2</td>\n",
       "    </tr>\n",
       "    <tr>\n",
       "      <th>1</th>\n",
       "      <td>Iphone13Pro</td>\n",
       "      <td>3</td>\n",
       "    </tr>\n",
       "    <tr>\n",
       "      <th>2</th>\n",
       "      <td>Iphone14</td>\n",
       "      <td>6</td>\n",
       "    </tr>\n",
       "    <tr>\n",
       "      <th>3</th>\n",
       "      <td>Iphone14Plus</td>\n",
       "      <td>2</td>\n",
       "    </tr>\n",
       "    <tr>\n",
       "      <th>4</th>\n",
       "      <td>Iphone14ProMax</td>\n",
       "      <td>3</td>\n",
       "    </tr>\n",
       "    <tr>\n",
       "      <th>5</th>\n",
       "      <td>Iphone15</td>\n",
       "      <td>22</td>\n",
       "    </tr>\n",
       "    <tr>\n",
       "      <th>6</th>\n",
       "      <td>Iphone15Plus</td>\n",
       "      <td>2</td>\n",
       "    </tr>\n",
       "  </tbody>\n",
       "</table>\n",
       "</div>"
      ],
      "text/plain": [
       "     Product_Name  Quantity_Sold\n",
       "0        Iphone13              2\n",
       "1     Iphone13Pro              3\n",
       "2        Iphone14              6\n",
       "3    Iphone14Plus              2\n",
       "4  Iphone14ProMax              3\n",
       "5        Iphone15             22\n",
       "6    Iphone15Plus              2"
      ]
     },
     "execution_count": 35,
     "metadata": {},
     "output_type": "execute_result"
    }
   ],
   "source": [
    "#  quantity sold for each product.\n",
    "each_product_sold = df.groupby('Product_Name')['Quantity_Sold'].sum().reset_index()\n",
    "each_product_sold"
   ]
  },
  {
   "cell_type": "code",
   "execution_count": 49,
   "id": "8347c93f",
   "metadata": {},
   "outputs": [
    {
     "name": "stdout",
     "output_type": "stream",
     "text": [
      "The Top Selling Product is :-> Iphone15\n"
     ]
    }
   ],
   "source": [
    "# Find the top-selling products.\n",
    "\n",
    "top_selling_product = df.groupby('Product_Name')['Quantity_Sold'].sum().sort_values(ascending=False).index[0]\n",
    "print(\"The Top Selling Product is :->\",top_selling_product)\n"
   ]
  },
  {
   "cell_type": "code",
   "execution_count": 45,
   "id": "26ec5a03",
   "metadata": {},
   "outputs": [
    {
     "data": {
      "image/png": "[encoded data removed]",
      "text/plain": [
       "<Figure size 640x480 with 1 Axes>"
      ]
     },
     "metadata": {},
     "output_type": "display_data"
    }
   ],
   "source": [
    "# Analyze monthly sales trends.\n",
    "import seaborn as sns\n",
    "import matplotlib.pyplot as plt\n",
    "\n",
    "# Assuming df is your DataFrame\n",
    "sns.barplot(x='Month', y='Quantity_Sold', data=df)\n",
    "plt.show()\n"
   ]
  },
  {
   "cell_type": "raw",
   "id": "237ed218",
   "metadata": {},
   "source": [
    "Case Study 2: Employee Performance Analysis\n",
    "Problem Statement:\n",
    "You have a dataset with information about employees, including their performance ratings, years of experience, and department. Perform the following tasks:\n",
    "\n",
    "Load the dataset and understand its structure.\n",
    "Explore the distribution of performance ratings.\n",
    "Identify factors affecting performance (e.g., experience, department).\n",
    "Calculate average performance ratings for each department.\n",
    "Visualize the performance distribution using histograms."
   ]
  },
  {
   "cell_type": "code",
   "execution_count": 1,
   "id": "c142e464",
   "metadata": {},
   "outputs": [],
   "source": [
    "import numpy as np\n",
    "import pandas as pd"
   ]
  },
  {
   "cell_type": "code",
   "execution_count": 2,
   "id": "e2dc7fc8",
   "metadata": {},
   "outputs": [
    {
     "data": {
      "text/html": [
       "<div>\n",
       "<style scoped>\n",
       "    .dataframe tbody tr th:only-of-type {\n",
       "        vertical-align: middle;\n",
       "    }\n",
       "\n",
       "    .dataframe tbody tr th {\n",
       "        vertical-align: top;\n",
       "    }\n",
       "\n",
       "    .dataframe thead th {\n",
       "        text-align: right;\n",
       "    }\n",
       "</style>\n",
       "<table border=\"1\" class=\"dataframe\">\n",
       "  <thead>\n",
       "    <tr style=\"text-align: right;\">\n",
       "      <th></th>\n",
       "      <th>Employee_Name</th>\n",
       "      <th>Department</th>\n",
       "      <th>Ratting</th>\n",
       "      <th>Years_of_Experience</th>\n",
       "    </tr>\n",
       "  </thead>\n",
       "  <tbody>\n",
       "    <tr>\n",
       "      <th>0</th>\n",
       "      <td>Ram</td>\n",
       "      <td>Sales</td>\n",
       "      <td>63</td>\n",
       "      <td>1</td>\n",
       "    </tr>\n",
       "    <tr>\n",
       "      <th>1</th>\n",
       "      <td>Sham</td>\n",
       "      <td>IT</td>\n",
       "      <td>75</td>\n",
       "      <td>3</td>\n",
       "    </tr>\n",
       "    <tr>\n",
       "      <th>2</th>\n",
       "      <td>Jay</td>\n",
       "      <td>HR</td>\n",
       "      <td>88</td>\n",
       "      <td>4</td>\n",
       "    </tr>\n",
       "    <tr>\n",
       "      <th>3</th>\n",
       "      <td>Gaurav</td>\n",
       "      <td>Sales</td>\n",
       "      <td>52</td>\n",
       "      <td>0</td>\n",
       "    </tr>\n",
       "    <tr>\n",
       "      <th>4</th>\n",
       "      <td>Gayatri</td>\n",
       "      <td>Quality</td>\n",
       "      <td>60</td>\n",
       "      <td>1</td>\n",
       "    </tr>\n",
       "    <tr>\n",
       "      <th>5</th>\n",
       "      <td>Priya</td>\n",
       "      <td>IT</td>\n",
       "      <td>80</td>\n",
       "      <td>3</td>\n",
       "    </tr>\n",
       "    <tr>\n",
       "      <th>6</th>\n",
       "      <td>Manav</td>\n",
       "      <td>Sales</td>\n",
       "      <td>90</td>\n",
       "      <td>5</td>\n",
       "    </tr>\n",
       "    <tr>\n",
       "      <th>7</th>\n",
       "      <td>Pooja</td>\n",
       "      <td>R&amp;D</td>\n",
       "      <td>93</td>\n",
       "      <td>6</td>\n",
       "    </tr>\n",
       "    <tr>\n",
       "      <th>8</th>\n",
       "      <td>Aman</td>\n",
       "      <td>Sales</td>\n",
       "      <td>63</td>\n",
       "      <td>2</td>\n",
       "    </tr>\n",
       "    <tr>\n",
       "      <th>9</th>\n",
       "      <td>Salman</td>\n",
       "      <td>IT</td>\n",
       "      <td>85</td>\n",
       "      <td>3</td>\n",
       "    </tr>\n",
       "    <tr>\n",
       "      <th>10</th>\n",
       "      <td>Vijay</td>\n",
       "      <td>R&amp;D</td>\n",
       "      <td>56</td>\n",
       "      <td>2</td>\n",
       "    </tr>\n",
       "    <tr>\n",
       "      <th>11</th>\n",
       "      <td>Ashok</td>\n",
       "      <td>Quality</td>\n",
       "      <td>49</td>\n",
       "      <td>0</td>\n",
       "    </tr>\n",
       "  </tbody>\n",
       "</table>\n",
       "</div>"
      ],
      "text/plain": [
       "   Employee_Name Department  Ratting  Years_of_Experience\n",
       "0            Ram      Sales       63                    1\n",
       "1           Sham         IT       75                    3\n",
       "2            Jay         HR       88                    4\n",
       "3         Gaurav      Sales       52                    0\n",
       "4        Gayatri    Quality       60                    1\n",
       "5          Priya         IT       80                    3\n",
       "6          Manav      Sales       90                    5\n",
       "7          Pooja        R&D       93                    6\n",
       "8           Aman      Sales       63                    2\n",
       "9         Salman         IT       85                    3\n",
       "10         Vijay        R&D       56                    2\n",
       "11         Ashok    Quality       49                    0"
      ]
     },
     "execution_count": 2,
     "metadata": {},
     "output_type": "execute_result"
    }
   ],
   "source": [
    "employee_data = {\n",
    "    'Employee_Name':['Ram','Sham','Jay','Gaurav','Gayatri','Priya','Manav','Pooja','Aman','Salman','Vijay','Ashok'],\n",
    "    'Department':['Sales','IT','HR','Sales','Quality','IT','Sales','R&D','Sales','IT','R&D','Quality'],\n",
    "    'Ratting':[63,75,88,52,60,80,90,93,63,85,56,49],\n",
    "    'Years_of_Experience':[1,3,4,0,1,3,5,6,2,3,2,0]\n",
    "}\n",
    "df = pd.DataFrame(employee_data)\n",
    "df"
   ]
  },
  {
   "cell_type": "code",
   "execution_count": 3,
   "id": "d841d094",
   "metadata": {},
   "outputs": [
    {
     "data": {
      "text/html": [
       "<div>\n",
       "<style scoped>\n",
       "    .dataframe tbody tr th:only-of-type {\n",
       "        vertical-align: middle;\n",
       "    }\n",
       "\n",
       "    .dataframe tbody tr th {\n",
       "        vertical-align: top;\n",
       "    }\n",
       "\n",
       "    .dataframe thead th {\n",
       "        text-align: right;\n",
       "    }\n",
       "</style>\n",
       "<table border=\"1\" class=\"dataframe\">\n",
       "  <thead>\n",
       "    <tr style=\"text-align: right;\">\n",
       "      <th></th>\n",
       "      <th>Employee_Name</th>\n",
       "      <th>Ratting</th>\n",
       "    </tr>\n",
       "  </thead>\n",
       "  <tbody>\n",
       "    <tr>\n",
       "      <th>0</th>\n",
       "      <td>Aman</td>\n",
       "      <td>63</td>\n",
       "    </tr>\n",
       "    <tr>\n",
       "      <th>1</th>\n",
       "      <td>Ashok</td>\n",
       "      <td>49</td>\n",
       "    </tr>\n",
       "    <tr>\n",
       "      <th>2</th>\n",
       "      <td>Gaurav</td>\n",
       "      <td>52</td>\n",
       "    </tr>\n",
       "    <tr>\n",
       "      <th>3</th>\n",
       "      <td>Gayatri</td>\n",
       "      <td>60</td>\n",
       "    </tr>\n",
       "    <tr>\n",
       "      <th>4</th>\n",
       "      <td>Jay</td>\n",
       "      <td>88</td>\n",
       "    </tr>\n",
       "    <tr>\n",
       "      <th>5</th>\n",
       "      <td>Manav</td>\n",
       "      <td>90</td>\n",
       "    </tr>\n",
       "    <tr>\n",
       "      <th>6</th>\n",
       "      <td>Pooja</td>\n",
       "      <td>93</td>\n",
       "    </tr>\n",
       "    <tr>\n",
       "      <th>7</th>\n",
       "      <td>Priya</td>\n",
       "      <td>80</td>\n",
       "    </tr>\n",
       "    <tr>\n",
       "      <th>8</th>\n",
       "      <td>Ram</td>\n",
       "      <td>63</td>\n",
       "    </tr>\n",
       "    <tr>\n",
       "      <th>9</th>\n",
       "      <td>Salman</td>\n",
       "      <td>85</td>\n",
       "    </tr>\n",
       "    <tr>\n",
       "      <th>10</th>\n",
       "      <td>Sham</td>\n",
       "      <td>75</td>\n",
       "    </tr>\n",
       "    <tr>\n",
       "      <th>11</th>\n",
       "      <td>Vijay</td>\n",
       "      <td>56</td>\n",
       "    </tr>\n",
       "  </tbody>\n",
       "</table>\n",
       "</div>"
      ],
      "text/plain": [
       "   Employee_Name  Ratting\n",
       "0           Aman       63\n",
       "1          Ashok       49\n",
       "2         Gaurav       52\n",
       "3        Gayatri       60\n",
       "4            Jay       88\n",
       "5          Manav       90\n",
       "6          Pooja       93\n",
       "7          Priya       80\n",
       "8            Ram       63\n",
       "9         Salman       85\n",
       "10          Sham       75\n",
       "11         Vijay       56"
      ]
     },
     "execution_count": 3,
     "metadata": {},
     "output_type": "execute_result"
    }
   ],
   "source": [
    "# Explore the distribution of performance ratings.\n",
    "ratting_dis=df.groupby('Employee_Name')['Ratting'].sum().reset_index()\n",
    "ratting_dis"
   ]
  },
  {
   "cell_type": "code",
   "execution_count": null,
   "id": "a645c4d7",
   "metadata": {},
   "outputs": [],
   "source": [
    "# Identify factors affecting performance (e.g., experience, department).\n"
   ]
  },
  {
   "cell_type": "code",
   "execution_count": 11,
   "id": "75f3d433",
   "metadata": {},
   "outputs": [
    {
     "data": {
      "text/html": [
       "<div>\n",
       "<style scoped>\n",
       "    .dataframe tbody tr th:only-of-type {\n",
       "        vertical-align: middle;\n",
       "    }\n",
       "\n",
       "    .dataframe tbody tr th {\n",
       "        vertical-align: top;\n",
       "    }\n",
       "\n",
       "    .dataframe thead th {\n",
       "        text-align: right;\n",
       "    }\n",
       "</style>\n",
       "<table border=\"1\" class=\"dataframe\">\n",
       "  <thead>\n",
       "    <tr style=\"text-align: right;\">\n",
       "      <th></th>\n",
       "      <th>Years_of_Experience</th>\n",
       "      <th>Ratting</th>\n",
       "    </tr>\n",
       "  </thead>\n",
       "  <tbody>\n",
       "    <tr>\n",
       "      <th>0</th>\n",
       "      <td>0</td>\n",
       "      <td>50.5</td>\n",
       "    </tr>\n",
       "    <tr>\n",
       "      <th>1</th>\n",
       "      <td>1</td>\n",
       "      <td>61.5</td>\n",
       "    </tr>\n",
       "    <tr>\n",
       "      <th>2</th>\n",
       "      <td>2</td>\n",
       "      <td>59.5</td>\n",
       "    </tr>\n",
       "    <tr>\n",
       "      <th>3</th>\n",
       "      <td>3</td>\n",
       "      <td>80.0</td>\n",
       "    </tr>\n",
       "    <tr>\n",
       "      <th>4</th>\n",
       "      <td>4</td>\n",
       "      <td>88.0</td>\n",
       "    </tr>\n",
       "    <tr>\n",
       "      <th>5</th>\n",
       "      <td>5</td>\n",
       "      <td>90.0</td>\n",
       "    </tr>\n",
       "    <tr>\n",
       "      <th>6</th>\n",
       "      <td>6</td>\n",
       "      <td>93.0</td>\n",
       "    </tr>\n",
       "  </tbody>\n",
       "</table>\n",
       "</div>"
      ],
      "text/plain": [
       "   Years_of_Experience  Ratting\n",
       "0                    0     50.5\n",
       "1                    1     61.5\n",
       "2                    2     59.5\n",
       "3                    3     80.0\n",
       "4                    4     88.0\n",
       "5                    5     90.0\n",
       "6                    6     93.0"
      ]
     },
     "execution_count": 11,
     "metadata": {},
     "output_type": "execute_result"
    }
   ],
   "source": [
    "performance_on_experience=df.groupby('Years_of_Experience')['Ratting'].mean().reset_index()  \n",
    "performance_on_experience"
   ]
  },
  {
   "cell_type": "code",
   "execution_count": 119,
   "id": "cbd88f15",
   "metadata": {},
   "outputs": [
    {
     "data": {
      "text/plain": [
       "Department\n",
       "HR         88.0\n",
       "IT         80.0\n",
       "Quality    54.5\n",
       "R&D        74.5\n",
       "Sales      67.0\n",
       "Name: Ratting, dtype: float64"
      ]
     },
     "execution_count": 119,
     "metadata": {},
     "output_type": "execute_result"
    }
   ],
   "source": [
    "performance_on_department=df.groupby('Department')['Ratting'].mean()\n",
    "performance_on_department"
   ]
  },
  {
   "cell_type": "code",
   "execution_count": 120,
   "id": "e150e03d",
   "metadata": {},
   "outputs": [
    {
     "data": {
      "text/html": [
       "<div>\n",
       "<style scoped>\n",
       "    .dataframe tbody tr th:only-of-type {\n",
       "        vertical-align: middle;\n",
       "    }\n",
       "\n",
       "    .dataframe tbody tr th {\n",
       "        vertical-align: top;\n",
       "    }\n",
       "\n",
       "    .dataframe thead th {\n",
       "        text-align: right;\n",
       "    }\n",
       "</style>\n",
       "<table border=\"1\" class=\"dataframe\">\n",
       "  <thead>\n",
       "    <tr style=\"text-align: right;\">\n",
       "      <th></th>\n",
       "      <th>Department</th>\n",
       "      <th>Ratting</th>\n",
       "    </tr>\n",
       "  </thead>\n",
       "  <tbody>\n",
       "    <tr>\n",
       "      <th>0</th>\n",
       "      <td>HR</td>\n",
       "      <td>88.0</td>\n",
       "    </tr>\n",
       "    <tr>\n",
       "      <th>1</th>\n",
       "      <td>IT</td>\n",
       "      <td>80.0</td>\n",
       "    </tr>\n",
       "    <tr>\n",
       "      <th>2</th>\n",
       "      <td>Quality</td>\n",
       "      <td>54.5</td>\n",
       "    </tr>\n",
       "    <tr>\n",
       "      <th>3</th>\n",
       "      <td>R&amp;D</td>\n",
       "      <td>74.5</td>\n",
       "    </tr>\n",
       "    <tr>\n",
       "      <th>4</th>\n",
       "      <td>Sales</td>\n",
       "      <td>67.0</td>\n",
       "    </tr>\n",
       "  </tbody>\n",
       "</table>\n",
       "</div>"
      ],
      "text/plain": [
       "  Department  Ratting\n",
       "0         HR     88.0\n",
       "1         IT     80.0\n",
       "2    Quality     54.5\n",
       "3        R&D     74.5\n",
       "4      Sales     67.0"
      ]
     },
     "execution_count": 120,
     "metadata": {},
     "output_type": "execute_result"
    }
   ],
   "source": [
    "performance_on_department=df.groupby('Department')['Ratting'].mean().reset_index()\n",
    "performance_on_department"
   ]
  },
  {
   "cell_type": "code",
   "execution_count": 121,
   "id": "0dbcd9dd",
   "metadata": {},
   "outputs": [
    {
     "name": "stderr",
     "output_type": "stream",
     "text": [
      "C:\\Users\\DHIRAJ\\anaconda3\\Lib\\site-packages\\seaborn\\axisgrid.py:118: UserWarning:\n",
      "\n",
      "The figure layout has changed to tight\n",
      "\n"
     ]
    },
    {
     "data": {
      "image/png": "[encoded data removed]",
      "text/plain": [
       "<Figure size 500x500 with 1 Axes>"
      ]
     },
     "metadata": {},
     "output_type": "display_data"
    }
   ],
   "source": [
    "# Visualize the performance distribution using histograms\n",
    "import seaborn as sns\n",
    "sns.displot(df['Ratting'],bins=[40,50,60,70,80,90,100],color='m')\n",
    "plt.show()"
   ]
  },
  {
   "cell_type": "raw",
   "id": "b6824392",
   "metadata": {},
   "source": [
    "Case Study 3: Financial Portfolio Analysis\n",
    "Problem Statement:\n",
    "You have a dataset with historical stock prices for multiple companies. Perform the following tasks:\n",
    "\n",
    "Load and preprocess the stock price data.\n",
    "Calculate daily returns for each stock.\n",
    "Calculate portfolio returns and risk.\n",
    "Optimize the portfolio by adjusting the allocation of each stock.\n",
    "Visualize the performance and risk of the optimized portfolio."
   ]
  },
  {
   "cell_type": "code",
   "execution_count": 323,
   "id": "e690962f",
   "metadata": {},
   "outputs": [],
   "source": [
    "import numpy as np\n",
    "import pandas as pd"
   ]
  },
  {
   "cell_type": "code",
   "execution_count": 324,
   "id": "5ffb3a95",
   "metadata": {},
   "outputs": [],
   "source": [
    "stock = {\n",
    "    'Stock_Name':['TATATECH','TCS','LT','YesBank','CIPLA','TATASTEEL','ITC','IRCON','HDFCBank','AdaniPort'],\n",
    "    'Buy_Price':[1250,3720,3560,23,1280,132,460,152,1480,760],\n",
    "    'Current_Price':[1090,4075,3480,26,1480,143,410,240,1420,1325],\n",
    "    'Quantity':[3,10,5,100,10,25,5,75,10,10]\n",
    "}"
   ]
  },
  {
   "cell_type": "code",
   "execution_count": 326,
   "id": "74388fe0",
   "metadata": {},
   "outputs": [
    {
     "data": {
      "text/html": [
       "<div>\n",
       "<style scoped>\n",
       "    .dataframe tbody tr th:only-of-type {\n",
       "        vertical-align: middle;\n",
       "    }\n",
       "\n",
       "    .dataframe tbody tr th {\n",
       "        vertical-align: top;\n",
       "    }\n",
       "\n",
       "    .dataframe thead th {\n",
       "        text-align: right;\n",
       "    }\n",
       "</style>\n",
       "<table border=\"1\" class=\"dataframe\">\n",
       "  <thead>\n",
       "    <tr style=\"text-align: right;\">\n",
       "      <th></th>\n",
       "      <th>Stock_Name</th>\n",
       "      <th>Buy_Price</th>\n",
       "      <th>Current_Price</th>\n",
       "      <th>Quantity</th>\n",
       "    </tr>\n",
       "  </thead>\n",
       "  <tbody>\n",
       "    <tr>\n",
       "      <th>0</th>\n",
       "      <td>TATATECH</td>\n",
       "      <td>1250</td>\n",
       "      <td>1090</td>\n",
       "      <td>3</td>\n",
       "    </tr>\n",
       "    <tr>\n",
       "      <th>1</th>\n",
       "      <td>TCS</td>\n",
       "      <td>3720</td>\n",
       "      <td>4075</td>\n",
       "      <td>10</td>\n",
       "    </tr>\n",
       "    <tr>\n",
       "      <th>2</th>\n",
       "      <td>LT</td>\n",
       "      <td>3560</td>\n",
       "      <td>3480</td>\n",
       "      <td>5</td>\n",
       "    </tr>\n",
       "    <tr>\n",
       "      <th>3</th>\n",
       "      <td>YesBank</td>\n",
       "      <td>23</td>\n",
       "      <td>26</td>\n",
       "      <td>100</td>\n",
       "    </tr>\n",
       "    <tr>\n",
       "      <th>4</th>\n",
       "      <td>CIPLA</td>\n",
       "      <td>1280</td>\n",
       "      <td>1480</td>\n",
       "      <td>10</td>\n",
       "    </tr>\n",
       "    <tr>\n",
       "      <th>5</th>\n",
       "      <td>TATASTEEL</td>\n",
       "      <td>132</td>\n",
       "      <td>143</td>\n",
       "      <td>25</td>\n",
       "    </tr>\n",
       "    <tr>\n",
       "      <th>6</th>\n",
       "      <td>ITC</td>\n",
       "      <td>460</td>\n",
       "      <td>410</td>\n",
       "      <td>5</td>\n",
       "    </tr>\n",
       "    <tr>\n",
       "      <th>7</th>\n",
       "      <td>IRCON</td>\n",
       "      <td>152</td>\n",
       "      <td>240</td>\n",
       "      <td>75</td>\n",
       "    </tr>\n",
       "    <tr>\n",
       "      <th>8</th>\n",
       "      <td>HDFCBank</td>\n",
       "      <td>1480</td>\n",
       "      <td>1420</td>\n",
       "      <td>10</td>\n",
       "    </tr>\n",
       "    <tr>\n",
       "      <th>9</th>\n",
       "      <td>AdaniPort</td>\n",
       "      <td>760</td>\n",
       "      <td>1325</td>\n",
       "      <td>10</td>\n",
       "    </tr>\n",
       "  </tbody>\n",
       "</table>\n",
       "</div>"
      ],
      "text/plain": [
       "  Stock_Name  Buy_Price  Current_Price  Quantity\n",
       "0   TATATECH       1250           1090         3\n",
       "1        TCS       3720           4075        10\n",
       "2         LT       3560           3480         5\n",
       "3    YesBank         23             26       100\n",
       "4      CIPLA       1280           1480        10\n",
       "5  TATASTEEL        132            143        25\n",
       "6        ITC        460            410         5\n",
       "7      IRCON        152            240        75\n",
       "8   HDFCBank       1480           1420        10\n",
       "9  AdaniPort        760           1325        10"
      ]
     },
     "execution_count": 326,
     "metadata": {},
     "output_type": "execute_result"
    }
   ],
   "source": [
    "df=pd.DataFrame(stock)\n",
    "df"
   ]
  },
  {
   "cell_type": "code",
   "execution_count": 327,
   "id": "e2b18d36",
   "metadata": {},
   "outputs": [
    {
     "name": "stdout",
     "output_type": "stream",
     "text": [
      "The Total Invested Money In a Stock Market is Rs. 113250\n"
     ]
    }
   ],
   "source": [
    "invested_value=(df['Buy_Price']*df['Quantity']).sum()\n",
    "print(\"The Total Invested Money In a Stock Market is Rs.\",invested_value)"
   ]
  },
  {
   "cell_type": "code",
   "execution_count": 328,
   "id": "091a462a",
   "metadata": {},
   "outputs": [
    {
     "name": "stdout",
     "output_type": "stream",
     "text": [
      "The Total Current Money In a Stock Market is Rs. 129895\n"
     ]
    }
   ],
   "source": [
    "current_value=(df['Current_Price']*df['Quantity']).sum()\n",
    "print(\"The Total Current Money In a Stock Market is Rs.\",current_value)"
   ]
  },
  {
   "cell_type": "code",
   "execution_count": 329,
   "id": "bbe1c82f",
   "metadata": {},
   "outputs": [
    {
     "name": "stdout",
     "output_type": "stream",
     "text": [
      "Total Return in Rs. 16645\n"
     ]
    }
   ],
   "source": [
    "# Find out the person who is invested his money is profitable or not\n",
    "return_value = (current_value - invested_value)\n",
    "print(\"Total Return in Rs.\",return_value)"
   ]
  },
  {
   "cell_type": "code",
   "execution_count": 330,
   "id": "867124eb",
   "metadata": {},
   "outputs": [
    {
     "name": "stdout",
     "output_type": "stream",
     "text": [
      "Total Profit in Percentage % 14.69757174392936\n"
     ]
    }
   ],
   "source": [
    "total_return_in_percentage=return_value/invested_value *100\n",
    "print(\"Total Profit in Percentage %\",total_return_in_percentage)"
   ]
  },
  {
   "cell_type": "code",
   "execution_count": 331,
   "id": "cafafe58",
   "metadata": {},
   "outputs": [
    {
     "name": "stdout",
     "output_type": "stream",
     "text": [
      "Number of profitable stocks: 6\n",
      "Number of loss-making stocks: 4\n"
     ]
    },
    {
     "data": {
      "text/plain": [
       "0    -480\n",
       "1    3550\n",
       "2    -400\n",
       "3     300\n",
       "4    2000\n",
       "5     275\n",
       "6    -250\n",
       "7    6600\n",
       "8    -600\n",
       "9    5650\n",
       "Name: Profit/Loss, dtype: int64"
      ]
     },
     "execution_count": 331,
     "metadata": {},
     "output_type": "execute_result"
    }
   ],
   "source": [
    "# Assuming you have loaded your dataset into a DataFrame named 'portfolio_data'\n",
    "\n",
    "# Calculate profit/loss for each stock\n",
    "df['Profit/Loss'] = (df['Current_Price']-df['Buy_Price'])*df['Quantity']\n",
    "\n",
    "# Count profitable and loss-making stocks\n",
    "profitable_stocks = len(df[df['Profit/Loss'] > 0])\n",
    "loss_making_stocks = len(df[df['Profit/Loss'] < 0])\n",
    "# # Display results\n",
    "print(\"Number of profitable stocks:\", profitable_stocks)\n",
    "print(\"Number of loss-making stocks:\", loss_making_stocks)\n",
    "df['Profit/Loss'] \n"
   ]
  },
  {
   "cell_type": "code",
   "execution_count": 332,
   "id": "98dda4c7",
   "metadata": {},
   "outputs": [
    {
     "data": {
      "image/png": "[encoded data removed]",
      "text/plain": [
       "<Figure size 1000x600 with 1 Axes>"
      ]
     },
     "metadata": {},
     "output_type": "display_data"
    }
   ],
   "source": [
    "# Visualize the performance and risk of the optimized portfolio\n",
    "\n",
    "import seaborn as sns\n",
    "import matplotlib.pyplot as plt\n",
    "\n",
    "# Set the size of the figure\n",
    "plt.figure(figsize=(10, 6))\n",
    "\n",
    "# Create the bar plot using Seaborn\n",
    "sns.barplot(x='Stock_Name', y='Profit/Loss', data=df)\n",
    "\n",
    "# Add titles and labels\n",
    "plt.title('Portfolio',size=20)\n",
    "plt.xlabel('Stock_Name',size=20)\n",
    "plt.ylabel('Price',size=20)\n",
    "# Show the plot\n",
    "plt.show()\n"
   ]
  },
  {
   "cell_type": "code",
   "execution_count": null,
   "id": "990b3d72",
   "metadata": {},
   "outputs": [],
   "source": []
  },
  {
   "cell_type": "raw",
   "id": "b00d20a9",
   "metadata": {},
   "source": [
    "Case Study 4: Customer Segmentation for E-commerce\n",
    "Problem Statement:\n",
    "You have a dataset containing customer information, including purchase history and demographics. Perform the following tasks:\n",
    "\n",
    "Load and explore the dataset.\n",
    "Clean and preprocess the data.\n",
    "Perform customer segmentation based on purchasing behavior.\n",
    "Analyze the characteristics of each customer segment.\n",
    "Provide insights and recommendations for targeted marketing."
   ]
  },
  {
   "cell_type": "code",
   "execution_count": 333,
   "id": "ef1dd141",
   "metadata": {},
   "outputs": [],
   "source": [
    "import numpy as np\n",
    "import pandas as pd\n"
   ]
  },
  {
   "cell_type": "code",
   "execution_count": 334,
   "id": "53e56d7b",
   "metadata": {},
   "outputs": [],
   "source": [
    "customer = {\n",
    "    'year': [2013,2014,2015,2016,2017,2018,2019,2020,2021,2022,2023],\n",
    "    'sale_site': ['Amazon','Flipkart','Myntra','Snapdeal','Amazon','Myntra','Flipkart','Myntra','Amazon','Flipkart','Messho'],\n",
    "    'Ship_City': ['Mumbai','Kolkata','Delhi','Banglore','Chennai','Pune','Jaipur','Lucknow','Mumbai','Hydrabad','Kashmir'],\n",
    "    'category' :['Cloth','Home_Appliances','Cloth','Electronics_Appliances','Telephone','Glocery','Beauty_Product','Furniture',\n",
    "                'Jewellery','Home_Appliances','Cloth'],\n",
    "    'total_revenue' : [110000,120000,160000,150000,220000,256000,300000,360000,550000,455000,955000]\n",
    "}"
   ]
  },
  {
   "cell_type": "code",
   "execution_count": 335,
   "id": "0657cd1e",
   "metadata": {},
   "outputs": [
    {
     "data": {
      "text/html": [
       "<div>\n",
       "<style scoped>\n",
       "    .dataframe tbody tr th:only-of-type {\n",
       "        vertical-align: middle;\n",
       "    }\n",
       "\n",
       "    .dataframe tbody tr th {\n",
       "        vertical-align: top;\n",
       "    }\n",
       "\n",
       "    .dataframe thead th {\n",
       "        text-align: right;\n",
       "    }\n",
       "</style>\n",
       "<table border=\"1\" class=\"dataframe\">\n",
       "  <thead>\n",
       "    <tr style=\"text-align: right;\">\n",
       "      <th></th>\n",
       "      <th>year</th>\n",
       "      <th>sale_site</th>\n",
       "      <th>Ship_City</th>\n",
       "      <th>category</th>\n",
       "      <th>total_revenue</th>\n",
       "    </tr>\n",
       "  </thead>\n",
       "  <tbody>\n",
       "    <tr>\n",
       "      <th>0</th>\n",
       "      <td>2013</td>\n",
       "      <td>Amazon</td>\n",
       "      <td>Mumbai</td>\n",
       "      <td>Cloth</td>\n",
       "      <td>110000</td>\n",
       "    </tr>\n",
       "    <tr>\n",
       "      <th>1</th>\n",
       "      <td>2014</td>\n",
       "      <td>Flipkart</td>\n",
       "      <td>Kolkata</td>\n",
       "      <td>Home_Appliances</td>\n",
       "      <td>120000</td>\n",
       "    </tr>\n",
       "    <tr>\n",
       "      <th>2</th>\n",
       "      <td>2015</td>\n",
       "      <td>Myntra</td>\n",
       "      <td>Delhi</td>\n",
       "      <td>Cloth</td>\n",
       "      <td>160000</td>\n",
       "    </tr>\n",
       "    <tr>\n",
       "      <th>3</th>\n",
       "      <td>2016</td>\n",
       "      <td>Snapdeal</td>\n",
       "      <td>Banglore</td>\n",
       "      <td>Electronics_Appliances</td>\n",
       "      <td>150000</td>\n",
       "    </tr>\n",
       "    <tr>\n",
       "      <th>4</th>\n",
       "      <td>2017</td>\n",
       "      <td>Amazon</td>\n",
       "      <td>Chennai</td>\n",
       "      <td>Telephone</td>\n",
       "      <td>220000</td>\n",
       "    </tr>\n",
       "    <tr>\n",
       "      <th>5</th>\n",
       "      <td>2018</td>\n",
       "      <td>Myntra</td>\n",
       "      <td>Pune</td>\n",
       "      <td>Glocery</td>\n",
       "      <td>256000</td>\n",
       "    </tr>\n",
       "    <tr>\n",
       "      <th>6</th>\n",
       "      <td>2019</td>\n",
       "      <td>Flipkart</td>\n",
       "      <td>Jaipur</td>\n",
       "      <td>Beauty_Product</td>\n",
       "      <td>300000</td>\n",
       "    </tr>\n",
       "    <tr>\n",
       "      <th>7</th>\n",
       "      <td>2020</td>\n",
       "      <td>Myntra</td>\n",
       "      <td>Lucknow</td>\n",
       "      <td>Furniture</td>\n",
       "      <td>360000</td>\n",
       "    </tr>\n",
       "    <tr>\n",
       "      <th>8</th>\n",
       "      <td>2021</td>\n",
       "      <td>Amazon</td>\n",
       "      <td>Mumbai</td>\n",
       "      <td>Jewellery</td>\n",
       "      <td>550000</td>\n",
       "    </tr>\n",
       "    <tr>\n",
       "      <th>9</th>\n",
       "      <td>2022</td>\n",
       "      <td>Flipkart</td>\n",
       "      <td>Hydrabad</td>\n",
       "      <td>Home_Appliances</td>\n",
       "      <td>455000</td>\n",
       "    </tr>\n",
       "    <tr>\n",
       "      <th>10</th>\n",
       "      <td>2023</td>\n",
       "      <td>Messho</td>\n",
       "      <td>Kashmir</td>\n",
       "      <td>Cloth</td>\n",
       "      <td>955000</td>\n",
       "    </tr>\n",
       "  </tbody>\n",
       "</table>\n",
       "</div>"
      ],
      "text/plain": [
       "    year sale_site Ship_City                category  total_revenue\n",
       "0   2013    Amazon    Mumbai                   Cloth         110000\n",
       "1   2014  Flipkart   Kolkata         Home_Appliances         120000\n",
       "2   2015    Myntra     Delhi                   Cloth         160000\n",
       "3   2016  Snapdeal  Banglore  Electronics_Appliances         150000\n",
       "4   2017    Amazon   Chennai               Telephone         220000\n",
       "5   2018    Myntra      Pune                 Glocery         256000\n",
       "6   2019  Flipkart    Jaipur          Beauty_Product         300000\n",
       "7   2020    Myntra   Lucknow               Furniture         360000\n",
       "8   2021    Amazon    Mumbai               Jewellery         550000\n",
       "9   2022  Flipkart  Hydrabad         Home_Appliances         455000\n",
       "10  2023    Messho   Kashmir                   Cloth         955000"
      ]
     },
     "execution_count": 335,
     "metadata": {},
     "output_type": "execute_result"
    }
   ],
   "source": [
    "df=pd.DataFrame(customer)\n",
    "df"
   ]
  },
  {
   "cell_type": "code",
   "execution_count": 336,
   "id": "4519e8f8",
   "metadata": {},
   "outputs": [
    {
     "data": {
      "image/png": "[encoded data removed]",
      "text/plain": [
       "<Figure size 1000x600 with 1 Axes>"
      ]
     },
     "metadata": {},
     "output_type": "display_data"
    }
   ],
   "source": [
    "import matplotlib.pyplot as plt\n",
    "import seaborn as sns\n",
    "plt.figure(figsize=(10, 6))\n",
    "\n",
    "# b=[2014,2015,2016,2017,2018,2019,2020,2021,2022,2023]\n",
    "sns.lineplot(x='year',y='total_revenue',data=df,color=\"g\")\n",
    "plt.show()"
   ]
  },
  {
   "cell_type": "raw",
   "id": "24c7fddd",
   "metadata": {},
   "source": [
    "Case Study 5: Inventory Management for a Store\n",
    "Problem Statement:\n",
    "You are tasked with managing the inventory of a retail store. Perform the following tasks:\n",
    "\n",
    "Create a list of available products with their names, prices, and quantities.\n",
    "Implement functions for adding new products, updating quantities, and removing products from the inventory.\n",
    "Calculate the total value of the current inventory.\n",
    "Generate a report of low-stock items that need to be replenished.\n",
    "Create a function to calculate the total revenue based on sales."
   ]
  },
  {
   "cell_type": "code",
   "execution_count": 12,
   "id": "05eebc72",
   "metadata": {},
   "outputs": [],
   "source": [
    "import pandas as pd\n",
    "import numpy as np"
   ]
  },
  {
   "cell_type": "code",
   "execution_count": null,
   "id": "a4fb4b93",
   "metadata": {},
   "outputs": [],
   "source": []
  },
  {
   "cell_type": "code",
   "execution_count": 78,
   "id": "f44bf347",
   "metadata": {},
   "outputs": [
    {
     "data": {
      "text/html": [
       "<div>\n",
       "<style scoped>\n",
       "    .dataframe tbody tr th:only-of-type {\n",
       "        vertical-align: middle;\n",
       "    }\n",
       "\n",
       "    .dataframe tbody tr th {\n",
       "        vertical-align: top;\n",
       "    }\n",
       "\n",
       "    .dataframe thead th {\n",
       "        text-align: right;\n",
       "    }\n",
       "</style>\n",
       "<table border=\"1\" class=\"dataframe\">\n",
       "  <thead>\n",
       "    <tr style=\"text-align: right;\">\n",
       "      <th></th>\n",
       "      <th>Name</th>\n",
       "      <th>price</th>\n",
       "      <th>quantity</th>\n",
       "    </tr>\n",
       "  </thead>\n",
       "  <tbody>\n",
       "    <tr>\n",
       "      <th>0</th>\n",
       "      <td>Urad_Dal</td>\n",
       "      <td>135</td>\n",
       "      <td>50</td>\n",
       "    </tr>\n",
       "    <tr>\n",
       "      <th>1</th>\n",
       "      <td>Machine_Wash</td>\n",
       "      <td>124</td>\n",
       "      <td>30</td>\n",
       "    </tr>\n",
       "    <tr>\n",
       "      <th>2</th>\n",
       "      <td>Maggi</td>\n",
       "      <td>75</td>\n",
       "      <td>20</td>\n",
       "    </tr>\n",
       "  </tbody>\n",
       "</table>\n",
       "</div>"
      ],
      "text/plain": [
       "           Name  price  quantity\n",
       "0      Urad_Dal    135        50\n",
       "1  Machine_Wash    124        30\n",
       "2         Maggi     75        20"
      ]
     },
     "execution_count": 78,
     "metadata": {},
     "output_type": "execute_result"
    }
   ],
   "source": [
    "products = [\n",
    "    {\"Name\": \"Urad_Dal\", \"price\": 135, \"quantity\": 50},\n",
    "    {\"Name\": \"Machine_Wash\", \"price\": 124, \"quantity\": 30},\n",
    "    {\"Name\": \"Maggi\", \"price\": 75, \"quantity\": 20}\n",
    "]\n",
    "df=pd.DataFrame(products)\n",
    "df"
   ]
  },
  {
   "cell_type": "code",
   "execution_count": 79,
   "id": "82f0b9cb",
   "metadata": {},
   "outputs": [
    {
     "data": {
      "text/html": [
       "<div>\n",
       "<style scoped>\n",
       "    .dataframe tbody tr th:only-of-type {\n",
       "        vertical-align: middle;\n",
       "    }\n",
       "\n",
       "    .dataframe tbody tr th {\n",
       "        vertical-align: top;\n",
       "    }\n",
       "\n",
       "    .dataframe thead th {\n",
       "        text-align: right;\n",
       "    }\n",
       "</style>\n",
       "<table border=\"1\" class=\"dataframe\">\n",
       "  <thead>\n",
       "    <tr style=\"text-align: right;\">\n",
       "      <th></th>\n",
       "      <th>Name</th>\n",
       "      <th>price</th>\n",
       "      <th>quantity</th>\n",
       "    </tr>\n",
       "  </thead>\n",
       "  <tbody>\n",
       "    <tr>\n",
       "      <th>0</th>\n",
       "      <td>Urad_Dal</td>\n",
       "      <td>135</td>\n",
       "      <td>50</td>\n",
       "    </tr>\n",
       "    <tr>\n",
       "      <th>1</th>\n",
       "      <td>Machine_Wash</td>\n",
       "      <td>124</td>\n",
       "      <td>30</td>\n",
       "    </tr>\n",
       "    <tr>\n",
       "      <th>2</th>\n",
       "      <td>Maggi</td>\n",
       "      <td>75</td>\n",
       "      <td>20</td>\n",
       "    </tr>\n",
       "    <tr>\n",
       "      <th>3</th>\n",
       "      <td>Parle_Biscuit</td>\n",
       "      <td>75</td>\n",
       "      <td>35</td>\n",
       "    </tr>\n",
       "  </tbody>\n",
       "</table>\n",
       "</div>"
      ],
      "text/plain": [
       "            Name  price  quantity\n",
       "0       Urad_Dal    135        50\n",
       "1   Machine_Wash    124        30\n",
       "2          Maggi     75        20\n",
       "3  Parle_Biscuit     75        35"
      ]
     },
     "execution_count": 79,
     "metadata": {},
     "output_type": "execute_result"
    }
   ],
   "source": [
    "# Add new product\n",
    "products.append({\"Name\": \"Parle_Biscuit\", \"price\": 75, \"quantity\": 35})\n",
    "\n",
    "df=pd.DataFrame(products)\n",
    "df"
   ]
  }
 ],
 "metadata": {
  "kernelspec": {
   "display_name": "Python 3 (ipykernel)",
   "language": "python",
   "name": "python3"
  },
  "language_info": {
   "codemirror_mode": {
    "name": "ipython",
    "version": 3
   },
   "file_extension": ".py",
   "mimetype": "text/x-python",
   "name": "python",
   "nbconvert_exporter": "python",
   "pygments_lexer": "ipython3",
   "version": "3.11.5"
  }
 },
 "nbformat": 4,
 "nbformat_minor": 5
}
